{
  "nbformat": 4,
  "nbformat_minor": 0,
  "metadata": {
    "colab": {
      "provenance": []
    },
    "kernelspec": {
      "name": "python3",
      "display_name": "Python 3"
    },
    "language_info": {
      "name": "python"
    }
  },
  "cells": [
    {
      "cell_type": "code",
      "execution_count": 1,
      "metadata": {
        "id": "LtQVaslafh87"
      },
      "outputs": [],
      "source": [
        "import numpy as np\n",
        "import scipy.stats as stats"
      ]
    },
    {
      "cell_type": "code",
      "source": [
        "durability_data = [1.13, 1.55, 1.43, 0.92, 1.25, 1.36, 1.32, 0.85, 1.07, 1.48, 1.20, 1.33, 1.18, 1.22, 1.29]\n",
        "n = len(durability_data)"
      ],
      "metadata": {
        "id": "rraPtxLtgyz8"
      },
      "execution_count": 2,
      "outputs": []
    },
    {
      "cell_type": "code",
      "source": [
        "sample_mean = np.mean(durability_data)\n",
        "sample_std = np.std(durability_data, ddof=1)"
      ],
      "metadata": {
        "id": "rCXfvfp1g6mr"
      },
      "execution_count": 3,
      "outputs": []
    },
    {
      "cell_type": "code",
      "source": [
        "confidence_level = 0.99\n",
        "alpha = 1 - confidence_level\n",
        "t_critical = stats.t.ppf(1 - alpha / 2, df=n - 1)\n",
        "margin_of_error = t_critical * (sample_std / np.sqrt(n))"
      ],
      "metadata": {
        "id": "nq9RzJX0hDvL"
      },
      "execution_count": 4,
      "outputs": []
    },
    {
      "cell_type": "code",
      "source": [
        "ci_lower = sample_mean - margin_of_error\n",
        "ci_upper = sample_mean + margin_of_error\n",
        "\n",
        "\n",
        "print(\"Sample mean:\", round(sample_mean, 3))\n",
        "print(\"Sample standard deviation:\", round(sample_std, 3))\n",
        "print(f\"Critical t-value for 99% confidence: {round(t_critical, 3)}\")\n",
        "print(f\"Margin of error: {round(margin_of_error, 3)}\")\n",
        "print(f\"99% Confidence interval: ({round(ci_lower, 3)}, {round(ci_upper, 3)})\")\n"
      ],
      "metadata": {
        "colab": {
          "base_uri": "https://localhost:8080/"
        },
        "id": "t3iscXp0hRCW",
        "outputId": "68e40ab0-f736-4250-cf9f-ab1970a9abb1"
      },
      "execution_count": 5,
      "outputs": [
        {
          "output_type": "stream",
          "name": "stdout",
          "text": [
            "Sample mean: 1.239\n",
            "Sample standard deviation: 0.193\n",
            "Critical t-value for 99% confidence: 2.977\n",
            "Margin of error: 0.148\n",
            "99% Confidence interval: (1.09, 1.387)\n"
          ]
        }
      ]
    },
    {
      "cell_type": "code",
      "source": [],
      "metadata": {
        "id": "3ldOJc3PuG20"
      },
      "execution_count": null,
      "outputs": []
    }
  ]
}